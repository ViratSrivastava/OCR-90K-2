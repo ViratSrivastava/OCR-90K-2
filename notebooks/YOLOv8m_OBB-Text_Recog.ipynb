{
  "cells": [
    {
      "cell_type": "markdown",
      "metadata": {
        "id": "FyRdDYkqAKN4"
      },
      "source": [
        "## Before you start\n",
        "\n",
        "Let's make sure that we have access to GPU. We can use `nvidia-smi` command to do that. In case of any problems navigate to `Edit` -> `Notebook settings` -> `Hardware accelerator`, set it to `GPU`, and then click `Save`."
      ]
    },
    {
      "cell_type": "code",
      "execution_count": 1,
      "metadata": {
        "colab": {
          "base_uri": "https://localhost:8080/"
        },
        "id": "Y8cDtxLIBHgQ",
        "outputId": "a190f096-ff06-4c98-ead5-1cb6312e8aa1"
      },
      "outputs": [
        {
          "name": "stdout",
          "output_type": "stream",
          "text": [
            "Wed Mar 19 23:52:01 2025       \n",
            "+-----------------------------------------------------------------------------------------+\n",
            "| NVIDIA-SMI 566.36                 Driver Version: 566.36         CUDA Version: 12.7     |\n",
            "|-----------------------------------------+------------------------+----------------------+\n",
            "| GPU  Name                  Driver-Model | Bus-Id          Disp.A | Volatile Uncorr. ECC |\n",
            "| Fan  Temp   Perf          Pwr:Usage/Cap |           Memory-Usage | GPU-Util  Compute M. |\n",
            "|                                         |                        |               MIG M. |\n",
            "|=========================================+========================+======================|\n",
            "|   0  NVIDIA GeForce RTX 3070 ...  WDDM  |   00000000:01:00.0  On |                  N/A |\n",
            "| N/A   86C    P0             68W /   85W |    1524MiB /   8192MiB |     55%      Default |\n",
            "|                                         |                        |                  N/A |\n",
            "+-----------------------------------------+------------------------+----------------------+\n",
            "                                                                                         \n",
            "+-----------------------------------------------------------------------------------------+\n",
            "| Processes:                                                                              |\n",
            "|  GPU   GI   CI        PID   Type   Process name                              GPU Memory |\n",
            "|        ID   ID                                                               Usage      |\n",
            "|=========================================================================================|\n",
            "|    0   N/A  N/A      1496    C+G   ...t.LockApp_cw5n1h2txyewy\\LockApp.exe      N/A      |\n",
            "|    0   N/A  N/A      2252    C+G   ...es (x86)\\Microsoft VS Code\\Code.exe      N/A      |\n",
            "|    0   N/A  N/A      5224    C+G   ...355.0_x64__dt26b99r8h8gj\\RtkUWP.exe      N/A      |\n",
            "|    0   N/A  N/A     10268    C+G   ...s\\System32\\ApplicationFrameHost.exe      N/A      |\n",
            "|    0   N/A  N/A     10944    C+G   C:\\Windows\\explorer.exe                     N/A      |\n",
            "|    0   N/A  N/A     11404    C+G   ...n\\NVIDIA app\\CEF\\NVIDIA Overlay.exe      N/A      |\n",
            "|    0   N/A  N/A     12268    C+G   C:\\Windows\\System32\\NahimicSvc64.exe        N/A      |\n",
            "|    0   N/A  N/A     12944    C+G   ...n\\NVIDIA app\\CEF\\NVIDIA Overlay.exe      N/A      |\n",
            "|    0   N/A  N/A     14308    C+G   ...nt.CBS_cw5n1h2txyewy\\SearchHost.exe      N/A      |\n",
            "|    0   N/A  N/A     14332    C+G   ...2txyewy\\StartMenuExperienceHost.exe      N/A      |\n",
            "|    0   N/A  N/A     14620    C+G   ...crosoft\\Edge\\Application\\msedge.exe      N/A      |\n",
            "|    0   N/A  N/A     14732    C+G   ...siveControlPanel\\SystemSettings.exe      N/A      |\n",
            "|    0   N/A  N/A     16264    C+G   ...CBS_cw5n1h2txyewy\\TextInputHost.exe      N/A      |\n",
            "|    0   N/A  N/A     16636    C+G   ...werToys\\PowerToys.PowerLauncher.exe      N/A      |\n",
            "|    0   N/A  N/A     17816    C+G   ...crosoft\\Edge\\Application\\msedge.exe      N/A      |\n",
            "|    0   N/A  N/A     18864    C+G   ...ys\\WinUI3Apps\\PowerToys.Peek.UI.exe      N/A      |\n",
            "|    0   N/A  N/A     18908    C+G   ...ekyb3d8bbwe\\PhoneExperienceHost.exe      N/A      |\n",
            "|    0   N/A  N/A     18964    C+G   C:\\Windows\\System32\\ShellHost.exe           N/A      |\n",
            "|    0   N/A  N/A     19012    C+G   ...UI3Apps\\PowerToys.AdvancedPaste.exe      N/A      |\n",
            "|    0   N/A  N/A     19196    C+G   ...werToys\\PowerToys.ColorPickerUI.exe      N/A      |\n",
            "|    0   N/A  N/A     19264    C+G   ...\\PowerToys\\PowerToys.FancyZones.exe      N/A      |\n",
            "|    0   N/A  N/A     19980    C+G   ...4.0_x64__w2gh52qy24etm\\Nahimic3.exe      N/A      |\n",
            "|    0   N/A  N/A     20376    C+G   ...5n1h2txyewy\\ShellExperienceHost.exe      N/A      |\n",
            "|    0   N/A  N/A     22108    C+G   ...ps\\common\\Subnautica\\Subnautica.exe      N/A      |\n",
            "|    0   N/A  N/A     22292    C+G   ...\\cef\\cef.win7x64\\steamwebhelper.exe      N/A      |\n",
            "|    0   N/A  N/A     24144    C+G   ...4.0_x64__cv1g1gvanyjgm\\WhatsApp.exe      N/A      |\n",
            "+-----------------------------------------------------------------------------------------+\n"
          ]
        }
      ],
      "source": [
        "!nvidia-smi"
      ]
    },
    {
      "cell_type": "code",
      "execution_count": 2,
      "metadata": {
        "colab": {
          "base_uri": "https://localhost:8080/"
        },
        "id": "CjpPg4mGKc1v",
        "outputId": "bf34293a-235e-4a30-e2cf-6eae3603b0ba"
      },
      "outputs": [
        {
          "name": "stdout",
          "output_type": "stream",
          "text": [
            "c:\\Users\\VIRAT\\Projects\\OCR\\notebooks\n"
          ]
        }
      ],
      "source": [
        "import os\n",
        "HOME = os.getcwd()\n",
        "print(HOME)"
      ]
    },
    {
      "cell_type": "markdown",
      "metadata": {
        "id": "3C3EO_2zNChu"
      },
      "source": [
        "## Install YOLOv8\n"
      ]
    },
    {
      "cell_type": "markdown",
      "metadata": {
        "colab": {
          "base_uri": "https://localhost:8080/"
        },
        "id": "_J0dLg_64l-o",
        "outputId": "32845d7f-6b04-4bda-b955-6aa5707c0704"
      },
      "source": [
        "Run the following commands in terminal to install libraries\n",
        "\n",
        "\n",
        "```\n",
        "pip install roboflow\n",
        "pip install ultralytics\n",
        "```"
      ]
    },
    {
      "cell_type": "code",
      "execution_count": 3,
      "metadata": {
        "colab": {
          "base_uri": "https://localhost:8080/"
        },
        "id": "tdSMcABDNKW-",
        "outputId": "3d1f83cb-5003-4206-bca5-a0e3d6d2d317"
      },
      "outputs": [
        {
          "name": "stdout",
          "output_type": "stream",
          "text": [
            "Ultralytics 8.3.93  Python-3.10.9 torch-2.5.1+cu118 CUDA:0 (NVIDIA GeForce RTX 3070 Laptop GPU, 8192MiB)\n",
            "Setup complete  (16 CPUs, 63.7 GB RAM, 859.2/953.0 GB disk)\n"
          ]
        }
      ],
      "source": [
        "from IPython import display\n",
        "display.clear_output()\n",
        "from IPython.display import display, Image\n",
        "import ultralytics\n",
        "ultralytics.checks()\n",
        "from ultralytics import YOLO\n",
        "import glob\n",
        "from IPython.display import Image, display"
      ]
    },
    {
      "cell_type": "markdown",
      "metadata": {
        "id": "HnnZSm5OQfPQ"
      },
      "source": [
        "## CLI Basics"
      ]
    },
    {
      "cell_type": "markdown",
      "metadata": {
        "id": "K33S7zlkQku0"
      },
      "source": [
        "If you want to train, validate or run inference on models and don't need to make any modifications to the code, using YOLO command line interface is the easiest way to get started. Read more about CLI in [Ultralytics YOLO Docs](https://docs.ultralytics.com/usage/cli/).\n",
        "\n",
        "```\n",
        "yolo task=detect    mode=train    model=yolov8n.yaml      args...\n",
        "          classify       predict        yolov8n-cls.yaml  args...\n",
        "          segment        val            yolov8n-seg.yaml  args...\n",
        "                         export         yolov8n.pt        format=onnx  args...\n",
        "```"
      ]
    },
    {
      "cell_type": "markdown",
      "metadata": {
        "id": "tJA4JIuUxGE9"
      },
      "source": [
        "## Custom Dataset"
      ]
    },
    {
      "cell_type": "code",
      "execution_count": null,
      "metadata": {
        "colab": {
          "base_uri": "https://localhost:8080/"
        },
        "id": "C-DFogFG4yOI",
        "outputId": "f653ba6f-6e54-42f1-bbb9-683ee2800fc3"
      },
      "outputs": [],
      "source": [
        "!mkdir {HOME}/datasets\n",
        "%cd {HOME}/datasets"
      ]
    },
    {
      "cell_type": "code",
      "execution_count": null,
      "metadata": {
        "colab": {
          "base_uri": "https://localhost:8080/"
        },
        "collapsed": true,
        "id": "BSd93ZJzZZKt",
        "outputId": "42082d48-9877-411f-d56b-dc8197f7ebd0"
      },
      "outputs": [],
      "source": [
        "from roboflow import Roboflow\n",
        "rf = Roboflow(api_key=\"D0mdk9dsanv40HGISExw\")\n",
        "project = rf.workspace(\"solar-h55md\").project(\"solar-panel-qcdgb\")\n",
        "version = project.version(4)\n",
        "dataset = version.download(\"yolov8-obb\")"
      ]
    },
    {
      "cell_type": "markdown",
      "metadata": {
        "id": "YUjFBKKqXa-u"
      },
      "source": [
        "## Custom Training"
      ]
    },
    {
      "cell_type": "code",
      "execution_count": null,
      "metadata": {
        "colab": {
          "base_uri": "https://localhost:8080/"
        },
        "id": "VnpWnDWQ45_D",
        "outputId": "2b46b1a4-fb9f-4c5f-86cd-4f4922856143"
      },
      "outputs": [],
      "source": [
        "%cd {HOME}"
      ]
    },
    {
      "cell_type": "code",
      "execution_count": null,
      "metadata": {
        "colab": {
          "base_uri": "https://localhost:8080/"
        },
        "id": "D2YkphuiaE7_",
        "outputId": "cc348e69-cbd9-4d6b-9ba4-81d0681cbcd9"
      },
      "outputs": [],
      "source": [
        "!yolo task=obb mode=train model=yolov8m-obb.pt data={dataset.location}/data.yaml epochs=75 imgsz=1200 batch=6"
      ]
    },
    {
      "cell_type": "code",
      "execution_count": null,
      "metadata": {
        "colab": {
          "base_uri": "https://localhost:8080/"
        },
        "id": "Z2aa2IcY49hq",
        "outputId": "5ecb79cf-1d1a-4e4c-de8a-848085519a85"
      },
      "outputs": [],
      "source": [
        "%cd {HOME}"
      ]
    },
    {
      "cell_type": "code",
      "execution_count": null,
      "metadata": {
        "colab": {
          "base_uri": "https://localhost:8080/",
          "height": 467
        },
        "id": "TO-Bf2aOHi2d",
        "outputId": "3e197f17-2418-4b2c-e0a7-1960207fcb0e"
      },
      "outputs": [],
      "source": [
        "Image(filename=f'{HOME}/runs/obb/train2/confusion_matrix.png', width=600)"
      ]
    },
    {
      "cell_type": "code",
      "execution_count": null,
      "metadata": {
        "colab": {
          "base_uri": "https://localhost:8080/",
          "height": 335
        },
        "id": "E61kPKfPHnvm",
        "outputId": "d1332b31-a791-44c7-b7d0-6d6ed153da82"
      },
      "outputs": [],
      "source": [
        "%cd {HOME}\n",
        "Image(filename=f'{HOME}/runs/obb/train2/results.png', width=600)"
      ]
    },
    {
      "cell_type": "code",
      "execution_count": null,
      "metadata": {
        "colab": {
          "base_uri": "https://localhost:8080/",
          "height": 735
        },
        "id": "HI4nADCCj3F5",
        "outputId": "b371e83d-8012-4f66-94d0-5eaceb4b29e1"
      },
      "outputs": [],
      "source": [
        "%cd {HOME}\n",
        "Image(filename=f'{HOME}/runs/obb/train2/val_batch0_pred.jpg', width=700)"
      ]
    },
    {
      "cell_type": "markdown",
      "metadata": {
        "id": "6ODk1VTlevxn"
      },
      "source": [
        "## Validate Custom Model"
      ]
    },
    {
      "cell_type": "code",
      "execution_count": null,
      "metadata": {
        "colab": {
          "base_uri": "https://localhost:8080/"
        },
        "id": "YpyuwrNlXc1P",
        "outputId": "1b716171-99af-45d3-f0a1-86a5cd076098"
      },
      "outputs": [],
      "source": [
        "%cd {HOME}\n",
        "\n",
        "!yolo task=obb mode=val model={HOME}/runs/obb/train2/weights/best.pt data={dataset.location}/data.yaml"
      ]
    },
    {
      "cell_type": "markdown",
      "metadata": {
        "id": "i4eASbcWkQBq"
      },
      "source": [
        "## Inference with Custom Model"
      ]
    },
    {
      "cell_type": "code",
      "execution_count": null,
      "metadata": {
        "colab": {
          "base_uri": "https://localhost:8080/"
        },
        "collapsed": true,
        "id": "Wjc1ctZykYuf",
        "outputId": "1fe90660-6a1b-46ad-8547-561a1420b957"
      },
      "outputs": [],
      "source": [
        "%cd {HOME}\n",
        "!yolo task=obb mode=predict model={HOME}/runs/obb/train2/weights/best.pt conf=0.5 source={dataset.location}/test/images save=true"
      ]
    },
    {
      "cell_type": "code",
      "execution_count": null,
      "metadata": {
        "colab": {
          "base_uri": "https://localhost:8080/",
          "height": 1000
        },
        "collapsed": true,
        "id": "jbVjEtPAkz3j",
        "outputId": "285e4217-b114-4406-cd98-81649f3764b9"
      },
      "outputs": [],
      "source": [
        "for image_path in glob.glob(f'{HOME}/runs/obb/predict/*.jpg'):\n",
        "      display(Image(filename=image_path, height=600))\n",
        "      print(\"\\n\")"
      ]
    },
    {
      "cell_type": "code",
      "execution_count": null,
      "metadata": {
        "colab": {
          "base_uri": "https://localhost:8080/"
        },
        "id": "nVo-ROLN9bkT",
        "outputId": "c0897294-2da7-4373-b106-8d49e7a7bfb7"
      },
      "outputs": [],
      "source": [
        "%cd {HOME}"
      ]
    },
    {
      "cell_type": "code",
      "execution_count": null,
      "metadata": {
        "colab": {
          "base_uri": "https://localhost:8080/"
        },
        "id": "Ti_-w2jX9Ije",
        "outputId": "08c15b03-6493-48fa-a8ac-ff39a1274120"
      },
      "outputs": [],
      "source": [
        "!yolo train \\\n",
        "  model=/content/drive/MyDrive/ISRO/runs/obb/train2/weights/best.pt \\\n",
        "  data=/content/drive/MyDrive/ISRO/datasets/Solar-Panel-4/data.yaml \\\n",
        "  imgsz=1216 \\\n",
        "  epochs=150 \\\n",
        "  batch=8 \\\n",
        "  project=/content/drive/MyDrive/ISRO/runs/obb \\\n",
        "  name=train2.1"
      ]
    }
  ],
  "metadata": {
    "accelerator": "GPU",
    "colab": {
      "gpuType": "T4",
      "provenance": []
    },
    "kernelspec": {
      "display_name": "ocr-venv",
      "language": "python",
      "name": "python3"
    },
    "language_info": {
      "codemirror_mode": {
        "name": "ipython",
        "version": 3
      },
      "file_extension": ".py",
      "mimetype": "text/x-python",
      "name": "python",
      "nbconvert_exporter": "python",
      "pygments_lexer": "ipython3",
      "version": "3.10.9"
    }
  },
  "nbformat": 4,
  "nbformat_minor": 0
}
